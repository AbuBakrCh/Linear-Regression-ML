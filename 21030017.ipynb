{
 "cells": [
  {
   "cell_type": "markdown",
   "metadata": {},
   "source": [
    "# Programming Assignment 2: Linear Regression\n",
    "\n",
    "## Instructions\n",
    "\n",
    "- The aim of this assignment is to give you a hands-on with a real-life machine learning application.\n",
    "- Use separate training, and testing data as discussed in class.\n",
    "- You can only use Python programming language and Jupyter Notebooks.\n",
    "- There are three parts of this assignment. In parts 1 & 2, you can only use **numpy, scipy, pandas, matplotlib and are not allowed to use NLTK, scikit-learn or any other machine learning toolkit**. However, you have to use **scikit-learn** in part 3.\n",
    "- Carefully read the submission instructions, plagiarism and late days policy below.\n",
    "- Deadline to submit this assignment is: **Monday, 8th November 2021**.\n",
    "\n",
    "## Submission Instructions\n",
    "\n",
    "Submit your code both as notebook file (.ipynb) and python script (.py) on LMS. The name of both files should be your roll number. If you don’t know how to save .ipynb as .py [see this](https://i.stack.imgur.com/L1rQH.png). **Failing to submit any one of them will result in the reduction of marks**.\n",
    "\n",
    "## Plagiarism Policy\n",
    "\n",
    "The code MUST be done independently. Any plagiarism or cheating of work from others or the internet will be immediately referred to the DC. If you are confused about what constitutes plagiarism, it is YOUR responsibility to consult with the instructor or the TA in a timely manner. No “after the fact” negotiations will be possible. The only way to guarantee that you do not lose marks is “DO NOT LOOK AT ANYONE ELSE'S CODE NOR DISCUSS IT WITH THEM”.\n",
    "\n",
    "## Late Days Policy\n",
    "\n",
    "The deadline of the assignment is final. However, in order to accommodate all the 11th hour issues there is a late submission policy i.e. you can submit your assignment within 3 days after the deadline with 25% deduction each day.\n",
    "\n",
    "\n",
    "## Introduction\n",
    "\n",
    "In this exercise, you will implement linear regression and get to see it work on data. After completing this assignment, you will know:\n",
    "- How to implement linear regression from scratch.\n",
    "- How to estimate linear regression parameters using gradient descent.\n",
    "- How to make predictions on new data using learned parameters.\n",
    "\n",
    "Let's start with the necessary imports."
   ]
  },
  {
   "cell_type": "code",
   "execution_count": 1,
   "metadata": {},
   "outputs": [],
   "source": [
    "import os\n",
    "import numpy as np\n",
    "from matplotlib import pyplot\n",
    "%matplotlib inline"
   ]
  },
  {
   "cell_type": "markdown",
   "metadata": {},
   "source": [
    "## 1. Linear Regression with one variable\n",
    "\n",
    "Linear regression assumes a linear relationship between the input variables (X) and the single output variable (Y). More specifically, that output (Y) can be calculated from a linear combination of the input variables (X). When there is a single input variable, the method is referred to as a simple linear regression.\n",
    "\n",
    "Now you will implement simple linear regression to predict profits for a food truck. Suppose you are the CEO of a restaurant franchise and are considering different cities for opening a new outlet. The chain already has trucks in various cities and you have data for profits and populations from the cities. You would like to use this data to help you select which city to expand to next."
   ]
  },
  {
   "cell_type": "markdown",
   "metadata": {},
   "source": [
    "### 1.1 Load the dataset\n",
    "\n",
    "The file `Data/ex1data1.txt` contains the dataset for our linear regression problem. The first column is the population of a city (in 10,000s) and the second column is the profit of a food truck in that city (in $10,000s). A negative value for profit indicates a loss. \n",
    "\n",
    "We provide you with the code needed to load this data. The dataset is loaded from the data file into the variables `X` and `Y`."
   ]
  },
  {
   "cell_type": "code",
   "execution_count": 2,
   "metadata": {},
   "outputs": [],
   "source": [
    "data = np.loadtxt(os.path.join('Data', 'ex1data.txt'), delimiter=',')\n",
    "X, Y = data[:, 0], data[:, 1]"
   ]
  },
  {
   "cell_type": "markdown",
   "metadata": {},
   "source": [
    "### 1.2 Plot the dataset\n",
    "Before starting on any task, it is often useful to understand the data by visualizing it. For this dataset, you can use a scatter plot to visualize the data, since it has only two properties to plot (profit and population). Execute the next cell to visualize the data."
   ]
  },
  {
   "cell_type": "code",
   "execution_count": 3,
   "metadata": {
    "scrolled": true
   },
   "outputs": [
    {
     "data": {
      "text/plain": [
       "Text(0.5, 0, 'Population of City in 10,000s')"
      ]
     },
     "execution_count": 3,
     "metadata": {},
     "output_type": "execute_result"
    },
    {
     "data": {
      "image/png": "[encoded data removed]",
      "text/plain": [
       "<Figure size 432x288 with 1 Axes>"
      ]
     },
     "metadata": {
      "needs_background": "light"
     },
     "output_type": "display_data"
    }
   ],
   "source": [
    "pyplot.plot(X, Y, 'ro', ms=10, mec='k')\n",
    "pyplot.ylabel('Profit in $10,000')\n",
    "pyplot.xlabel('Population of City in 10,000s')"
   ]
  },
  {
   "cell_type": "markdown",
   "metadata": {},
   "source": [
    "### 1.3 Learn the parameters\n",
    "In this part, you will fit the linear regression parameters $\\theta$ to the food truck dataset using gradient descent.\n",
    "\n",
    "The objective of linear regression is to minimize the cost function\n",
    "\n",
    "$$ J(\\theta) = \\frac{1}{2m} \\sum_{i=1}^m \\left( h_{\\theta}(x^{(i)}) - y^{(i)}\\right)^2 ------ (i)$$ \n",
    "\n",
    "where the hypothesis $h_\\theta(x)$ is given by the linear model\n",
    "$$ h_\\theta(x) = \\theta_0 + \\theta_1 x ------ (ii)$$\n",
    "\n",
    "The parameters of your model are the $\\theta_j$ values. These are\n",
    "the values you will adjust to minimize cost $J(\\theta)$. One way to do this is to\n",
    "use the batch gradient descent algorithm. In batch gradient descent, each\n",
    "iteration performs the update\n",
    "\n",
    "$$ \\theta_0 = \\theta_0 - \\alpha \\frac{1}{m} \\sum_{i=1}^m \\left( h_\\theta(x^{(i)}) - y^{(i)}\\right) ------ (iii)$$\n",
    "\n",
    "$$ \\theta_1 = \\theta_1 - \\alpha \\frac{1}{m} \\sum_{i=1}^m \\left( h_\\theta(x^{(i)}) - y^{(i)}\\right)x^{(i)} ------ (iv)$$\n",
    "\n",
    "With each step of gradient descent, your parameters $\\theta_j$ come closer to the optimal values that will achieve the lowest cost J($\\theta$).\n",
    "\n",
    "Let's start by implementing the hypothesis $h_\\theta(x)$."
   ]
  },
  {
   "cell_type": "code",
   "execution_count": 4,
   "metadata": {},
   "outputs": [],
   "source": [
    "### GRADED FUNCTION ###\n",
    "def predict(x, theta0, theta1):\n",
    "    '''\n",
    "    Calculates the hypothesis for any input sample `x` given the parameters `theta`.\n",
    "    \n",
    "    Arguments\n",
    "    ---------\n",
    "    x : float\n",
    "        The input sample.\n",
    "    \n",
    "    theta0 : float\n",
    "        The parameter for the regression function.\n",
    "        \n",
    "    theta1 : float\n",
    "        The parameter for the regression function.\n",
    "    \n",
    "    Returns\n",
    "    -------\n",
    "    h_x : float\n",
    "        The hypothesis for input sample.\n",
    "    \n",
    "    Hint(s)\n",
    "    -------\n",
    "    Compute equation (ii).\n",
    "    '''\n",
    "    # You need to return the following variable(s) correctly\n",
    "    h_x = 0.0\n",
    "    \n",
    "    ### START CODE HERE ### (≈ 1 line of code)\n",
    "    h_x = theta0 + (theta1 * x)\n",
    "    ### END CODE HERE ###\n",
    "    \n",
    "    return h_x"
   ]
  },
  {
   "cell_type": "markdown",
   "metadata": {},
   "source": [
    "Execute the next cell to verify your implementation."
   ]
  },
  {
   "cell_type": "code",
   "execution_count": 5,
   "metadata": {},
   "outputs": [
    {
     "name": "stdout",
     "output_type": "stream",
     "text": [
      "With x = 2, theta0 = 1.0, theta1 = 1.0\n",
      "Predicted Hypothesis h(x) = 3.00\n",
      "Expected hypothesis h(x) = 3.00\n",
      "\n"
     ]
    }
   ],
   "source": [
    "h_x = predict(x=2, theta0=1.0, theta1=1.0)\n",
    "print('With x = 2, theta0 = 1.0, theta1 = 1.0\\nPredicted Hypothesis h(x) = %.2f' % h_x)\n",
    "print(\"Expected hypothesis h(x) = 3.00\\n\")"
   ]
  },
  {
   "cell_type": "markdown",
   "metadata": {},
   "source": [
    "As you perform gradient descent to learn minimize the cost function  $J(\\theta)$, it is helpful to monitor the convergence by computing the cost. In this section, you will implement a function to calculate  $J(\\theta)$ so you can check the convergence of your gradient descent implementation."
   ]
  },
  {
   "cell_type": "code",
   "execution_count": 6,
   "metadata": {},
   "outputs": [],
   "source": [
    "### GRADED FUNCTION ###\n",
    "def computeCost(X, Y, theta0, theta1):\n",
    "    '''\n",
    "    Computes cost for linear regression. Computes the cost of using `theta` as the\n",
    "    parameter for linear regression to fit the data points in `X` and `Y`.\n",
    "    \n",
    "    Arguments\n",
    "    ---------\n",
    "    X : array\n",
    "        The input dataset of shape (m, ), where m is the number of training examples.\n",
    "    \n",
    "    Y : array\n",
    "        The values of the function at each data point. This is a vector of\n",
    "        shape (m, ), where m is the number of training examples.\n",
    "    \n",
    "    theta0 : float\n",
    "        The parameter for the regression function.\n",
    "        \n",
    "    theta1 : float\n",
    "        The parameter for the regression function.\n",
    "    \n",
    "    Returns\n",
    "    -------\n",
    "    J : float\n",
    "        The value of the regression cost function.\n",
    "    \n",
    "    Hint(s)\n",
    "    -------\n",
    "    Compute equation (i).\n",
    "    '''\n",
    "    # initialize some useful values\n",
    "    m = Y.size  # number of training examples\n",
    "    \n",
    "    # You need to return the following variable(s) correctly\n",
    "    J = 0\n",
    "    ### START CODE HERE ### (≈ 3-4 lines of code)\n",
    "    costSummation = 0\n",
    "    costSummation = np.sum([(predict(x, theta0, theta1) - y) ** 2 for x,y in zip(X,Y)])\n",
    "    J = costSummation / (2*m)\n",
    "    ### END CODE HERE ###\n",
    "    \n",
    "    return J"
   ]
  },
  {
   "cell_type": "markdown",
   "metadata": {},
   "source": [
    "Execute the next cell to verify your implementation."
   ]
  },
  {
   "cell_type": "code",
   "execution_count": 7,
   "metadata": {},
   "outputs": [
    {
     "name": "stdout",
     "output_type": "stream",
     "text": [
      "With theta0 = 1.0, theta1 = 1.0\n",
      "Predicted cost J = 10.27\n",
      "Expected cost J = 10.27\n",
      "\n"
     ]
    }
   ],
   "source": [
    "J = computeCost(X, Y, theta0=1.0, theta1=1.0)\n",
    "print('With theta0 = 1.0, theta1 = 1.0\\nPredicted cost J = %.2f' % J)\n",
    "print(\"Expected cost J = 10.27\\n\")"
   ]
  },
  {
   "cell_type": "markdown",
   "metadata": {},
   "source": [
    "Next, you will complete a function which implements gradient descent. The loop structure has been written for you, and you only need to supply the updates to parameters $\\theta_j$  within each iteration (epoch). \n",
    "\n",
    "The starter code for the function `gradientDescent` calls `computeCost` on every iteration and saves the cost to a `python` list. Assuming you have implemented `gradientDescent` and `computeCost` correctly, your value of $J(\\theta)$ should never increase, and should converge to a steady value by the end of the algorithm."
   ]
  },
  {
   "cell_type": "code",
   "execution_count": 8,
   "metadata": {},
   "outputs": [],
   "source": [
    "### GRADED FUNCTION ###\n",
    "def gradientDescent(X, Y, alpha, n_epoch):\n",
    "    \"\"\"\n",
    "    Performs gradient descent to learn `theta`. Updates `theta` by taking `n_epoch`\n",
    "    gradient steps with learning rate `alpha`.\n",
    "    \n",
    "    Arguments\n",
    "    ---------\n",
    "    X : array\n",
    "        The input dataset of shape (m, ), where m is the number of training examples.\n",
    "    \n",
    "    Y : array\n",
    "        The values of the function at each data point. This is a vector of\n",
    "        shape (m, ), where m is the number of training examples.\n",
    "    \n",
    "    alpha : float\n",
    "        The learning rate.\n",
    "    \n",
    "    n_epoch : int\n",
    "        The number of iterations for gradient descent. \n",
    "    \n",
    "    Returns\n",
    "    -------\n",
    "    theta0 : float\n",
    "        The parameter for the regression function.\n",
    "        \n",
    "    theta1 : float\n",
    "        The parameter for the regression function.\n",
    "    \n",
    "    J : list\n",
    "        A python list for the values of the cost function after each iteration.\n",
    "    \n",
    "    Hint(s)\n",
    "    -------\n",
    "    Compute equation (iii) and (iv).\n",
    "\n",
    "    While debugging, it can be useful to print out the values of \n",
    "    the cost function (computeCost) here.\n",
    "    \"\"\"\n",
    "    # initialize some useful values\n",
    "    m = Y.size  # number of training examples\n",
    "    J = list()  # list to store cost\n",
    "    \n",
    "    # You need to return the following variables correctly\n",
    "    theta0 = 0.0\n",
    "    theta1 = 0.0\n",
    "    \n",
    "    for epoch in range(n_epoch):\n",
    "        ### START CODE HERE ### (≈ 5-10 lines of code)\n",
    "        \n",
    "        theta0_update_param = np.sum([predict(x, theta0, theta1) - y for x,y in zip(X,Y)]) * (alpha / m)\n",
    "        theta1_update_param = np.sum([(predict(x, theta0, theta1) - y) * x for x,y in zip(X,Y)]) * (alpha / m)\n",
    "        theta0 = theta0 - theta0_update_param\n",
    "        theta1 = theta1 - theta1_update_param\n",
    "        \n",
    "        ### END CODE HERE ###\n",
    "\n",
    "        J.append(computeCost(X, Y, theta0, theta1))\n",
    "    return theta0, theta1, J"
   ]
  },
  {
   "cell_type": "markdown",
   "metadata": {},
   "source": [
    "Execute the next cell to verify your implementation."
   ]
  },
  {
   "cell_type": "code",
   "execution_count": 9,
   "metadata": {},
   "outputs": [
    {
     "name": "stdout",
     "output_type": "stream",
     "text": [
      "Predicted theta0 = -3.6303, theta1 = 1.1664, cost = 4.4834\n",
      "Expected theta0 = -3.6303, theta1 = 1.1664, cost = 4.4834\n"
     ]
    }
   ],
   "source": [
    "n_epoch = 1500\n",
    "alpha = 0.01\n",
    "\n",
    "theta0, theta1, J = gradientDescent(X ,Y, alpha, n_epoch)\n",
    "print('Predicted theta0 = %.4f, theta1 = %.4f, cost = %.4f' % (theta0, theta1, J[-1]))\n",
    "print('Expected theta0 = -3.6303, theta1 = 1.1664, cost = 4.4834')"
   ]
  },
  {
   "cell_type": "markdown",
   "metadata": {},
   "source": [
    "### 1.4 Plot the linear fit\n",
    "\n",
    "Use your learned parameters $\\theta_j$ to plot the linear fit."
   ]
  },
  {
   "cell_type": "code",
   "execution_count": 10,
   "metadata": {},
   "outputs": [
    {
     "data": {
      "text/plain": [
       "<matplotlib.legend.Legend at 0x7f569f8a02d0>"
      ]
     },
     "execution_count": 10,
     "metadata": {},
     "output_type": "execute_result"
    },
    {
     "data": {
      "image/png": "[encoded data removed]",
      "text/plain": [
       "<Figure size 432x288 with 1 Axes>"
      ]
     },
     "metadata": {
      "needs_background": "light"
     },
     "output_type": "display_data"
    }
   ],
   "source": [
    "h_x = list()\n",
    "for x in X:\n",
    "    h_x.append(predict(x, theta0, theta1))\n",
    "pyplot.plot(X, Y, 'ro', ms=10, mec='k')\n",
    "pyplot.ylabel('Profit in $10,000')\n",
    "pyplot.xlabel('Population of City in 10,000s')\n",
    "pyplot.plot(X, h_x, '-')\n",
    "pyplot.legend(['Training data', 'Linear regression'])"
   ]
  },
  {
   "cell_type": "markdown",
   "metadata": {},
   "source": [
    "### 1.5 Make predictions\n",
    "\n",
    "Use your learned parameters $\\theta_j$ to make food truck profit predictions in areas with population of 40,000 and 65,000."
   ]
  },
  {
   "cell_type": "code",
   "execution_count": 11,
   "metadata": {},
   "outputs": [
    {
     "name": "stdout",
     "output_type": "stream",
     "text": [
      "For population = 40,000, predicted profit = $10351.58\n",
      "For population = 65,000, predicted profit = $39510.64\n"
     ]
    }
   ],
   "source": [
    "print('For population = 40,000, predicted profit = $%.2f' % (predict(4, theta0, theta1)*10000))\n",
    "print('For population = 65,000, predicted profit = $%.2f' % (predict(6.5, theta0, theta1)*10000))"
   ]
  },
  {
   "cell_type": "markdown",
   "metadata": {},
   "source": [
    "## 2. Multivariate Linear Regression\n",
    "\n",
    "Now, you will implement multivariate linear regression (from scratch) to predict the the median price of homes in a Boston suburb during the mid-1970s. To do this, you are given with the dataset that has 404 examples in the train set and 102 examples in test set. Each example has 13 input variables (features) and one output variable (price in $10,000s). Below is the description of input variables:\n",
    "\n",
    "- Per capita crime rate.\n",
    "- The proportion of residential land zoned for lots over 25,000 square feet.\n",
    "- The proportion of non-retail business acres per town.\n",
    "- Charles River dummy variable (= 1 if tract bounds river; 0 otherwise).\n",
    "- Nitric oxides concentration (parts per 10 million).\n",
    "- The average number of rooms per dwelling.\n",
    "- The proportion of owner-occupied units built before 1940.\n",
    "- Weighted distances to five Boston employment centers.\n",
    "- Index of accessibility to radial highways.\n",
    "- Full-value property-tax rate per $10,000.\n",
    "- Pupil-teacher ratio by town.\n",
    "- 1000 * (Bk - 0.63) ** 2 where Bk is the proportion of Black people by town.\n",
    "- Percentage lower status of the population.\n",
    "\n",
    "Each one of these input features is stored using a different scale. Some features are represented by a proportion between 0 and 1, other features are ranges between 1 and 12, some are ranges between 0 and 100, and so on. This is often the case with real-world data, and understanding how to explore and clean such data is an important skill to develop.\n",
    "\n",
    "A common way to normalize features that use different scales and ranges is:\n",
    "\n",
    "- Subtract the mean value of each feature from the dataset.\n",
    "- After subtracting the mean, additionally scale (divide) the feature values by their respective standard deviations.\n",
    "\n",
    "Note: We only use examples of the train set to estimate the mean and standard deviation.\n",
    "\n",
    "You have to follow exactly the same steps as above i.e. implement hypothesis, cost function and gradient descent for multivariate linear regression to learn parameters $\\theta$ using train set. Finally, report the cost (error) using your learned parameters $\\theta$ on test set. Expected Mean Square Error on this dataset is 11.5 - 12.5 approximately. \n",
    "\n",
    "We provide you with the code needed to load this dataset. The dataset is loaded from the data files into the variables `train_X`, `train_Y`, `test_X` and `test_Y`."
   ]
  },
  {
   "cell_type": "code",
   "execution_count": 12,
   "metadata": {},
   "outputs": [],
   "source": [
    "train_X = np.loadtxt(os.path.join('Data', 'ex2traindata.txt'))\n",
    "train_Y = np.loadtxt(os.path.join('Data', 'ex2trainlabels.txt'))\n",
    "test_X = np.loadtxt(os.path.join('Data', 'ex2testdata.txt'))\n",
    "test_Y = np.loadtxt(os.path.join('Data', 'ex2testlabels.txt'))"
   ]
  },
  {
   "cell_type": "code",
   "execution_count": 13,
   "metadata": {},
   "outputs": [],
   "source": [
    "''' Start your code of part 2 from here, add the new code cells as per your requirement. '''\n",
    "\n",
    "#Normalization\n",
    "train_Mean = np.mean(train_X, axis=0)\n",
    "train_Std = np.std(train_X, axis=0)\n",
    "\n",
    "train_X = (train_X - train_Mean) / train_Std\n",
    "test_X = (test_X - train_Mean) / train_Std\n",
    "\n",
    "#appending ones in feature matrices for theta0s\n",
    "train_X = np.c_[np.ones(train_X.shape[0]), train_X]\n",
    "test_X = np.c_[np.ones(test_X.shape[0]), test_X]"
   ]
  },
  {
   "cell_type": "code",
   "execution_count": 14,
   "metadata": {},
   "outputs": [],
   "source": [
    "def predictMultiVariate(X, thetas):\n",
    "    h_x = X.dot(thetas)\n",
    "    return h_x"
   ]
  },
  {
   "cell_type": "code",
   "execution_count": 15,
   "metadata": {},
   "outputs": [],
   "source": [
    "def computeCostMultiVariate(X, Y, thetas):\n",
    "    m = Y.size\n",
    "    J = 0\n",
    "    costSummation = 0\n",
    "    costSummation = np.sum([(predictMultiVariate(x, thetas) - y) ** 2 for x,y in zip(X,Y)])\n",
    "    J = costSummation / (2*m)\n",
    "    return J"
   ]
  },
  {
   "cell_type": "code",
   "execution_count": 16,
   "metadata": {},
   "outputs": [],
   "source": [
    "def gradientDescentMultiVariate(X, Y, alpha, n_epoch):    \n",
    "    m = Y.size\n",
    "    J = list()\n",
    "    thetas = np.zeros(shape=(14,1))\n",
    "    thetas_updated_params = np.zeros(shape=(14,1))\n",
    "    \n",
    "    for epoch in range(n_epoch):\n",
    "        for idx, val in enumerate(thetas):\n",
    "            thetas_updated_params[idx] = np.sum([(predictMultiVariate(x, thetas) - y) * x[idx] for x,y in zip(X,Y)]) * (alpha / m)\n",
    "\n",
    "        thetas = thetas - thetas_updated_params\n",
    "        J.append(computeCostMultiVariate(X, Y, thetas))\n",
    "    return thetas, J"
   ]
  },
  {
   "cell_type": "code",
   "execution_count": 17,
   "metadata": {},
   "outputs": [
    {
     "name": "stdout",
     "output_type": "stream",
     "text": [
      "Predicted cost = 11.0681\n"
     ]
    },
    {
     "data": {
      "text/plain": [
       "Text(0.5, 0, 'Epochs')"
      ]
     },
     "execution_count": 17,
     "metadata": {},
     "output_type": "execute_result"
    },
    {
     "data": {
      "image/png": "[encoded data removed]",
      "text/plain": [
       "<Figure size 432x288 with 1 Axes>"
      ]
     },
     "metadata": {
      "needs_background": "light"
     },
     "output_type": "display_data"
    }
   ],
   "source": [
    "n_epoch = 1500\n",
    "alpha = 0.01\n",
    "\n",
    "thetas, J = gradientDescentMultiVariate(train_X ,train_Y, alpha, n_epoch)\n",
    "print('Predicted cost = %.4f' % (J[-1]))\n",
    "pyplot.plot(J, np.arange(n_epoch).reshape(n_epoch,1), '-')\n",
    "pyplot.ylabel('Cost')\n",
    "pyplot.xlabel('Epochs')"
   ]
  },
  {
   "cell_type": "code",
   "execution_count": 18,
   "metadata": {},
   "outputs": [
    {
     "name": "stdout",
     "output_type": "stream",
     "text": [
      "Cost with test data = 11.4733\n"
     ]
    }
   ],
   "source": [
    "print('Cost with test data = %.4f' % computeCostMultiVariate(test_X, test_Y, thetas))"
   ]
  },
  {
   "cell_type": "markdown",
   "metadata": {},
   "source": [
    "## 3. Regularized Linear Regression\n",
    "\n",
    "Now, you'll use the [scikit-learn](https://scikit-learn.org/stable/index.html) to implement [Linear Regression](https://scikit-learn.org/stable/modules/generated/sklearn.linear_model.LinearRegression.html), [Ridge](https://scikit-learn.org/stable/modules/generated/sklearn.linear_model.Ridge.html#sklearn.linear_model.Ridge), [Lasso](https://scikit-learn.org/stable/modules/generated/sklearn.linear_model.Lasso.html#sklearn.linear_model.Lasso), [Elastic Net](https://scikit-learn.org/stable/modules/generated/sklearn.linear_model.ElasticNet.html#sklearn.linear_model.ElasticNet) and apply them to Boston house pricing dataset (provided in part 2). Try out different values of regularization coefficient (known as alpha in scikit-learn) and use the [Mean Squared Error](https://scikit-learn.org/stable/modules/generated/sklearn.metrics.mean_squared_error.html) to report loss with each regression. Finally, plot the regularization coefficients alpha (x-axis) with learned parameters $\\theta$ (y-axis) for Ridge and Lasso. Please read [this blog](https://scienceloft.com/technical/understanding-lasso-and-ridge-regression/) to get better understanding of the desired plots."
   ]
  },
  {
   "cell_type": "code",
   "execution_count": 19,
   "metadata": {},
   "outputs": [],
   "source": [
    "from sklearn.linear_model import LinearRegression\n",
    "from sklearn.linear_model import Ridge\n",
    "from sklearn.linear_model import Lasso\n",
    "from sklearn.linear_model import ElasticNet\n",
    "from sklearn.metrics import mean_squared_error"
   ]
  },
  {
   "cell_type": "code",
   "execution_count": 20,
   "metadata": {},
   "outputs": [
    {
     "name": "stdout",
     "output_type": "stream",
     "text": [
      "(No Regularization) Mean Square Error = 23.1956 , MSE Divided by 2 = 11.5978\n"
     ]
    }
   ],
   "source": [
    "''' Start your code of part 3 from here, add the new code cells as per your requirement. '''\n",
    "reg = LinearRegression().fit(train_X, train_Y)\n",
    "MSE = mean_squared_error(test_Y, reg.predict(test_X))\n",
    "print('(No Regularization) Mean Square Error = %.4f' % MSE , ', MSE Divided by 2 = %.4f' % (MSE/2))"
   ]
  },
  {
   "cell_type": "code",
   "execution_count": 21,
   "metadata": {},
   "outputs": [
    {
     "name": "stdout",
     "output_type": "stream",
     "text": [
      "(Ridge) For Alpha = 1.2589 , Mean Square Error = 23.0832 , MSE Divided by 2 = 11.5416 \n",
      "\n",
      "(Ridge) For Alpha = 15.8489 , Mean Square Error = 22.2634 , MSE Divided by 2 = 11.1317 \n",
      "\n",
      "(Ridge) For Alpha = 199.5262 , Mean Square Error = 23.7379 , MSE Divided by 2 = 11.8690 \n",
      "\n",
      "(Ridge) For Alpha = 2511.8864 , Mean Square Error = 51.5330 , MSE Divided by 2 = 25.7665 \n",
      "\n",
      "(Ridge) For Alpha = 31622.7766 , Mean Square Error = 78.5285 , MSE Divided by 2 = 39.2643 \n",
      "\n",
      "(Ridge) For Alpha = 398107.1706 , Mean Square Error = 83.2614 , MSE Divided by 2 = 41.6307 \n",
      "\n",
      "(Ridge) For Alpha = 5011872.3363 , Mean Square Error = 83.6749 , MSE Divided by 2 = 41.8374 \n",
      "\n",
      "(Ridge) For Alpha = 63095734.4480 , Mean Square Error = 83.7080 , MSE Divided by 2 = 41.8540 \n",
      "\n",
      "(Ridge) For Alpha = 794328234.7243 , Mean Square Error = 83.7106 , MSE Divided by 2 = 41.8553 \n",
      "\n",
      "(Ridge) For Alpha = 10000000000.0000 , Mean Square Error = 83.7108 , MSE Divided by 2 = 41.8554 \n",
      "\n"
     ]
    },
    {
     "data": {
      "image/png": "[encoded data removed]",
      "text/plain": [
       "<Figure size 432x288 with 1 Axes>"
      ]
     },
     "metadata": {
      "needs_background": "light"
     },
     "output_type": "display_data"
    }
   ],
   "source": [
    "alphas = np.logspace(0.1, 10, 10)\n",
    "coefs = []\n",
    "for alpha in alphas:\n",
    "    reg = Ridge(alpha = alpha)\n",
    "    reg.fit(train_X, train_Y)\n",
    "    MSE = mean_squared_error(test_Y, reg.predict(test_X))\n",
    "    print('(Ridge) For Alpha = %.4f' % alpha , ', Mean Square Error = %.4f' % MSE , ', MSE Divided by 2 = %.4f' % (MSE/2), '\\n')\n",
    "    coefs.append(reg.coef_)\n",
    "\n",
    "ridge_plt = pyplot.gca()\n",
    "ridge_plt.plot(alphas, coefs)\n",
    "ridge_plt.set_xscale(\"log\")\n",
    "ridge_plt.set_xlim(ridge_plt.get_xlim()[::-1])\n",
    "pyplot.xlabel(\"Regularization Coefficients Alphas\")\n",
    "pyplot.ylabel(\"Learned Parameters Thetas\")\n",
    "pyplot.axis(\"tight\")\n",
    "pyplot.title(\"Ridge Regularization\")\n",
    "pyplot.show()\n",
    "\n",
    "\n"
   ]
  },
  {
   "cell_type": "code",
   "execution_count": 22,
   "metadata": {},
   "outputs": [
    {
     "name": "stdout",
     "output_type": "stream",
     "text": [
      "(Lasso) For Alpha = 1.0233 , Mean Square Error = 24.3042 , MSE Divided by 2 = 12.1521 \n",
      "\n",
      "(Lasso) For Alpha = 1.7026 , Mean Square Error = 28.9202 , MSE Divided by 2 = 14.4601 \n",
      "\n",
      "(Lasso) For Alpha = 2.8328 , Mean Square Error = 39.0769 , MSE Divided by 2 = 19.5384 \n",
      "\n",
      "(Lasso) For Alpha = 4.7134 , Mean Square Error = 58.5616 , MSE Divided by 2 = 29.2808 \n",
      "\n",
      "(Lasso) For Alpha = 7.8423 , Mean Square Error = 83.7109 , MSE Divided by 2 = 41.8554 \n",
      "\n",
      "(Lasso) For Alpha = 13.0483 , Mean Square Error = 83.7109 , MSE Divided by 2 = 41.8554 \n",
      "\n",
      "(Lasso) For Alpha = 21.7103 , Mean Square Error = 83.7109 , MSE Divided by 2 = 41.8554 \n",
      "\n",
      "(Lasso) For Alpha = 36.1225 , Mean Square Error = 83.7109 , MSE Divided by 2 = 41.8554 \n",
      "\n",
      "(Lasso) For Alpha = 60.1020 , Mean Square Error = 83.7109 , MSE Divided by 2 = 41.8554 \n",
      "\n",
      "(Lasso) For Alpha = 100.0000 , Mean Square Error = 83.7109 , MSE Divided by 2 = 41.8554 \n",
      "\n"
     ]
    },
    {
     "data": {
      "image/png": "[encoded data removed]",
      "text/plain": [
       "<Figure size 432x288 with 1 Axes>"
      ]
     },
     "metadata": {
      "needs_background": "light"
     },
     "output_type": "display_data"
    }
   ],
   "source": [
    "alphas = np.logspace(0.01, 2, 10)\n",
    "coefs = []\n",
    "for alpha in alphas:\n",
    "    reg = Lasso(alpha = alpha)\n",
    "    reg.fit(train_X, train_Y)\n",
    "    MSE = mean_squared_error(test_Y, reg.predict(test_X))\n",
    "    print('(Lasso) For Alpha = %.4f' % alpha , ', Mean Square Error = %.4f' % MSE , ', MSE Divided by 2 = %.4f' % (MSE/2), '\\n')\n",
    "    coefs.append(reg.coef_)\n",
    "\n",
    "ridge_plt = pyplot.gca()\n",
    "ridge_plt.plot(alphas, coefs)\n",
    "ridge_plt.set_xscale(\"log\")\n",
    "ridge_plt.set_xlim(ridge_plt.get_xlim()[::-1])\n",
    "pyplot.xlabel(\"Regularization Coefficients Alphas\")\n",
    "pyplot.ylabel(\"Learned Parameters Thetas\")\n",
    "pyplot.axis(\"tight\")\n",
    "pyplot.title(\"Lasso Regularization\")\n",
    "pyplot.show()"
   ]
  },
  {
   "cell_type": "code",
   "execution_count": 23,
   "metadata": {},
   "outputs": [
    {
     "name": "stdout",
     "output_type": "stream",
     "text": [
      "(ElasticNet) For Alpha = 1.0233 , Mean Square Error = 27.0969 , MSE Divided by 2 = 13.5484\n",
      "(ElasticNet) For Alpha = 1.3183 , Mean Square Error = 29.3948 , MSE Divided by 2 = 14.6974\n",
      "(ElasticNet) For Alpha = 1.6982 , Mean Square Error = 32.4577 , MSE Divided by 2 = 16.2288\n",
      "(ElasticNet) For Alpha = 2.1878 , Mean Square Error = 36.4667 , MSE Divided by 2 = 18.2334\n",
      "(ElasticNet) For Alpha = 2.8184 , Mean Square Error = 41.5663 , MSE Divided by 2 = 20.7831\n",
      "(ElasticNet) For Alpha = 3.6308 , Mean Square Error = 47.4970 , MSE Divided by 2 = 23.7485\n",
      "(ElasticNet) For Alpha = 4.6774 , Mean Square Error = 54.6380 , MSE Divided by 2 = 27.3190\n",
      "(ElasticNet) For Alpha = 6.0256 , Mean Square Error = 62.8286 , MSE Divided by 2 = 31.4143\n",
      "(ElasticNet) For Alpha = 7.7625 , Mean Square Error = 71.4572 , MSE Divided by 2 = 35.7286\n",
      "(ElasticNet) For Alpha = 10.0000 , Mean Square Error = 77.9563 , MSE Divided by 2 = 38.9782\n"
     ]
    }
   ],
   "source": [
    "alphas = np.logspace(0.01, 1, 10)\n",
    "for alpha in alphas:\n",
    "    reg = ElasticNet(alpha = alpha)\n",
    "    reg.fit(train_X, train_Y)\n",
    "    MSE = mean_squared_error(test_Y, reg.predict(test_X))\n",
    "    print('(ElasticNet) For Alpha = %.4f' % alpha , ', Mean Square Error = %.4f' % MSE , ', MSE Divided by 2 = %.4f' % (MSE/2))"
   ]
  },
  {
   "cell_type": "code",
   "execution_count": null,
   "metadata": {},
   "outputs": [],
   "source": []
  }
 ],
 "metadata": {
  "kernelspec": {
   "display_name": "Python 3 (ipykernel)",
   "language": "python",
   "name": "python3"
  },
  "language_info": {
   "codemirror_mode": {
    "name": "ipython",
    "version": 3
   },
   "file_extension": ".py",
   "mimetype": "text/x-python",
   "name": "python",
   "nbconvert_exporter": "python",
   "pygments_lexer": "ipython3",
   "version": "3.7.11"
  }
 },
 "nbformat": 4,
 "nbformat_minor": 2
}
